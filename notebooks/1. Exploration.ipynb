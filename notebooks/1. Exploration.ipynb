{
 "cells": [
  {
   "cell_type": "code",
   "execution_count": 37,
   "metadata": {
    "ExecuteTime": {
     "end_time": "2018-12-14T00:57:13.650258Z",
     "start_time": "2018-12-14T00:57:13.642023Z"
    }
   },
   "outputs": [],
   "source": [
    "import numpy as np\n",
    "import pandas as pd\n",
    "import matplotlib.pyplot as plt\n",
    "%matplotlib inline\n",
    "plt.style.use('ggplot')\n",
    "#%run -i utils.py\n",
    "import seaborn as sns\n",
    "#import datetime \n",
    "\n",
    "import warnings\n",
    "warnings.simplefilter(action='ignore', category=FutureWarning)\n",
    "\n",
    "\n",
    "import statsmodels.api as sm\n",
    "from sklearn.model_selection import train_test_split\n",
    "from sklearn.linear_model import LinearRegression\n"
   ]
  },
  {
   "cell_type": "markdown",
   "metadata": {},
   "source": [
    "## Ingest the data"
   ]
  },
  {
   "cell_type": "code",
   "execution_count": 2,
   "metadata": {
    "ExecuteTime": {
     "end_time": "2018-12-14T00:29:58.929701Z",
     "start_time": "2018-12-14T00:29:58.835748Z"
    }
   },
   "outputs": [
    {
     "data": {
      "text/html": [
       "<div>\n",
       "<style scoped>\n",
       "    .dataframe tbody tr th:only-of-type {\n",
       "        vertical-align: middle;\n",
       "    }\n",
       "\n",
       "    .dataframe tbody tr th {\n",
       "        vertical-align: top;\n",
       "    }\n",
       "\n",
       "    .dataframe thead th {\n",
       "        text-align: right;\n",
       "    }\n",
       "</style>\n",
       "<table border=\"1\" class=\"dataframe\">\n",
       "  <thead>\n",
       "    <tr style=\"text-align: right;\">\n",
       "      <th></th>\n",
       "      <th>parcelid</th>\n",
       "      <th>logerror</th>\n",
       "      <th>transactiondate</th>\n",
       "    </tr>\n",
       "  </thead>\n",
       "  <tbody>\n",
       "    <tr>\n",
       "      <th>0</th>\n",
       "      <td>14297519</td>\n",
       "      <td>0.025595</td>\n",
       "      <td>2017-01-01</td>\n",
       "    </tr>\n",
       "    <tr>\n",
       "      <th>1</th>\n",
       "      <td>17052889</td>\n",
       "      <td>0.055619</td>\n",
       "      <td>2017-01-01</td>\n",
       "    </tr>\n",
       "    <tr>\n",
       "      <th>2</th>\n",
       "      <td>14186244</td>\n",
       "      <td>0.005383</td>\n",
       "      <td>2017-01-01</td>\n",
       "    </tr>\n",
       "    <tr>\n",
       "      <th>3</th>\n",
       "      <td>12177905</td>\n",
       "      <td>-0.103410</td>\n",
       "      <td>2017-01-01</td>\n",
       "    </tr>\n",
       "    <tr>\n",
       "      <th>4</th>\n",
       "      <td>10887214</td>\n",
       "      <td>0.006940</td>\n",
       "      <td>2017-01-01</td>\n",
       "    </tr>\n",
       "  </tbody>\n",
       "</table>\n",
       "</div>"
      ],
      "text/plain": [
       "   parcelid  logerror transactiondate\n",
       "0  14297519  0.025595      2017-01-01\n",
       "1  17052889  0.055619      2017-01-01\n",
       "2  14186244  0.005383      2017-01-01\n",
       "3  12177905 -0.103410      2017-01-01\n",
       "4  10887214  0.006940      2017-01-01"
      ]
     },
     "execution_count": 2,
     "metadata": {},
     "output_type": "execute_result"
    }
   ],
   "source": [
    "train_2016 = pd.read_csv('../data/train_2016_v2.csv')\n",
    "train_2017 = pd.read_csv('../data/train_2017.csv')\n",
    "train_2017.head()"
   ]
  },
  {
   "cell_type": "code",
   "execution_count": 3,
   "metadata": {
    "ExecuteTime": {
     "end_time": "2018-12-14T00:30:16.717211Z",
     "start_time": "2018-12-14T00:29:58.931103Z"
    }
   },
   "outputs": [
    {
     "name": "stderr",
     "output_type": "stream",
     "text": [
      "/Users/sam_stone/venvs/zillow_prize/lib/python3.7/site-packages/IPython/core/interactiveshell.py:3020: DtypeWarning: Columns (22,32,34,49,55) have mixed types. Specify dtype option on import or set low_memory=False.\n",
      "  interactivity=interactivity, compiler=compiler, result=result)\n"
     ]
    },
    {
     "data": {
      "text/plain": [
       "(2985217, 58)"
      ]
     },
     "execution_count": 3,
     "metadata": {},
     "output_type": "execute_result"
    }
   ],
   "source": [
    "df_2016 = pd.read_csv('../data/properties_2016.csv')\n",
    "df_2016.shape"
   ]
  },
  {
   "cell_type": "code",
   "execution_count": 4,
   "metadata": {
    "ExecuteTime": {
     "end_time": "2018-12-14T00:30:34.006751Z",
     "start_time": "2018-12-14T00:30:16.720279Z"
    }
   },
   "outputs": [
    {
     "name": "stderr",
     "output_type": "stream",
     "text": [
      "/Users/sam_stone/venvs/zillow_prize/lib/python3.7/site-packages/IPython/core/interactiveshell.py:3020: DtypeWarning: Columns (49) have mixed types. Specify dtype option on import or set low_memory=False.\n",
      "  interactivity=interactivity, compiler=compiler, result=result)\n"
     ]
    },
    {
     "data": {
      "text/plain": [
       "(2985217, 58)"
      ]
     },
     "execution_count": 4,
     "metadata": {},
     "output_type": "execute_result"
    }
   ],
   "source": [
    "df_2017 = pd.read_csv('../data/properties_2017.csv')\n",
    "df_2017.shape"
   ]
  },
  {
   "cell_type": "code",
   "execution_count": 5,
   "metadata": {
    "ExecuteTime": {
     "end_time": "2018-12-14T00:30:34.037195Z",
     "start_time": "2018-12-14T00:30:34.009422Z"
    }
   },
   "outputs": [
    {
     "data": {
      "text/html": [
       "<div>\n",
       "<style scoped>\n",
       "    .dataframe tbody tr th:only-of-type {\n",
       "        vertical-align: middle;\n",
       "    }\n",
       "\n",
       "    .dataframe tbody tr th {\n",
       "        vertical-align: top;\n",
       "    }\n",
       "\n",
       "    .dataframe thead th {\n",
       "        text-align: right;\n",
       "    }\n",
       "</style>\n",
       "<table border=\"1\" class=\"dataframe\">\n",
       "  <thead>\n",
       "    <tr style=\"text-align: right;\">\n",
       "      <th></th>\n",
       "      <th>parcelid</th>\n",
       "      <th>airconditioningtypeid</th>\n",
       "      <th>architecturalstyletypeid</th>\n",
       "      <th>basementsqft</th>\n",
       "      <th>bathroomcnt</th>\n",
       "      <th>bedroomcnt</th>\n",
       "      <th>buildingclasstypeid</th>\n",
       "      <th>buildingqualitytypeid</th>\n",
       "      <th>calculatedbathnbr</th>\n",
       "      <th>decktypeid</th>\n",
       "      <th>...</th>\n",
       "      <th>numberofstories</th>\n",
       "      <th>fireplaceflag</th>\n",
       "      <th>structuretaxvaluedollarcnt</th>\n",
       "      <th>taxvaluedollarcnt</th>\n",
       "      <th>assessmentyear</th>\n",
       "      <th>landtaxvaluedollarcnt</th>\n",
       "      <th>taxamount</th>\n",
       "      <th>taxdelinquencyflag</th>\n",
       "      <th>taxdelinquencyyear</th>\n",
       "      <th>censustractandblock</th>\n",
       "    </tr>\n",
       "  </thead>\n",
       "  <tbody>\n",
       "    <tr>\n",
       "      <th>0</th>\n",
       "      <td>10754147</td>\n",
       "      <td>NaN</td>\n",
       "      <td>NaN</td>\n",
       "      <td>NaN</td>\n",
       "      <td>0.0</td>\n",
       "      <td>0.0</td>\n",
       "      <td>NaN</td>\n",
       "      <td>NaN</td>\n",
       "      <td>NaN</td>\n",
       "      <td>NaN</td>\n",
       "      <td>...</td>\n",
       "      <td>NaN</td>\n",
       "      <td>NaN</td>\n",
       "      <td>NaN</td>\n",
       "      <td>9.0</td>\n",
       "      <td>2015.0</td>\n",
       "      <td>9.0</td>\n",
       "      <td>NaN</td>\n",
       "      <td>NaN</td>\n",
       "      <td>NaN</td>\n",
       "      <td>NaN</td>\n",
       "    </tr>\n",
       "    <tr>\n",
       "      <th>1</th>\n",
       "      <td>10759547</td>\n",
       "      <td>NaN</td>\n",
       "      <td>NaN</td>\n",
       "      <td>NaN</td>\n",
       "      <td>0.0</td>\n",
       "      <td>0.0</td>\n",
       "      <td>NaN</td>\n",
       "      <td>NaN</td>\n",
       "      <td>NaN</td>\n",
       "      <td>NaN</td>\n",
       "      <td>...</td>\n",
       "      <td>NaN</td>\n",
       "      <td>NaN</td>\n",
       "      <td>NaN</td>\n",
       "      <td>27516.0</td>\n",
       "      <td>2015.0</td>\n",
       "      <td>27516.0</td>\n",
       "      <td>NaN</td>\n",
       "      <td>NaN</td>\n",
       "      <td>NaN</td>\n",
       "      <td>NaN</td>\n",
       "    </tr>\n",
       "    <tr>\n",
       "      <th>2</th>\n",
       "      <td>10843547</td>\n",
       "      <td>NaN</td>\n",
       "      <td>NaN</td>\n",
       "      <td>NaN</td>\n",
       "      <td>0.0</td>\n",
       "      <td>0.0</td>\n",
       "      <td>NaN</td>\n",
       "      <td>NaN</td>\n",
       "      <td>NaN</td>\n",
       "      <td>NaN</td>\n",
       "      <td>...</td>\n",
       "      <td>NaN</td>\n",
       "      <td>NaN</td>\n",
       "      <td>650756.0</td>\n",
       "      <td>1413387.0</td>\n",
       "      <td>2015.0</td>\n",
       "      <td>762631.0</td>\n",
       "      <td>20800.37</td>\n",
       "      <td>NaN</td>\n",
       "      <td>NaN</td>\n",
       "      <td>NaN</td>\n",
       "    </tr>\n",
       "    <tr>\n",
       "      <th>3</th>\n",
       "      <td>10859147</td>\n",
       "      <td>NaN</td>\n",
       "      <td>NaN</td>\n",
       "      <td>NaN</td>\n",
       "      <td>0.0</td>\n",
       "      <td>0.0</td>\n",
       "      <td>3.0</td>\n",
       "      <td>7.0</td>\n",
       "      <td>NaN</td>\n",
       "      <td>NaN</td>\n",
       "      <td>...</td>\n",
       "      <td>1.0</td>\n",
       "      <td>NaN</td>\n",
       "      <td>571346.0</td>\n",
       "      <td>1156834.0</td>\n",
       "      <td>2015.0</td>\n",
       "      <td>585488.0</td>\n",
       "      <td>14557.57</td>\n",
       "      <td>NaN</td>\n",
       "      <td>NaN</td>\n",
       "      <td>NaN</td>\n",
       "    </tr>\n",
       "    <tr>\n",
       "      <th>4</th>\n",
       "      <td>10879947</td>\n",
       "      <td>NaN</td>\n",
       "      <td>NaN</td>\n",
       "      <td>NaN</td>\n",
       "      <td>0.0</td>\n",
       "      <td>0.0</td>\n",
       "      <td>4.0</td>\n",
       "      <td>NaN</td>\n",
       "      <td>NaN</td>\n",
       "      <td>NaN</td>\n",
       "      <td>...</td>\n",
       "      <td>NaN</td>\n",
       "      <td>NaN</td>\n",
       "      <td>193796.0</td>\n",
       "      <td>433491.0</td>\n",
       "      <td>2015.0</td>\n",
       "      <td>239695.0</td>\n",
       "      <td>5725.17</td>\n",
       "      <td>NaN</td>\n",
       "      <td>NaN</td>\n",
       "      <td>NaN</td>\n",
       "    </tr>\n",
       "  </tbody>\n",
       "</table>\n",
       "<p>5 rows × 58 columns</p>\n",
       "</div>"
      ],
      "text/plain": [
       "   parcelid  airconditioningtypeid  architecturalstyletypeid  basementsqft  \\\n",
       "0  10754147                    NaN                       NaN           NaN   \n",
       "1  10759547                    NaN                       NaN           NaN   \n",
       "2  10843547                    NaN                       NaN           NaN   \n",
       "3  10859147                    NaN                       NaN           NaN   \n",
       "4  10879947                    NaN                       NaN           NaN   \n",
       "\n",
       "   bathroomcnt  bedroomcnt  buildingclasstypeid  buildingqualitytypeid  \\\n",
       "0          0.0         0.0                  NaN                    NaN   \n",
       "1          0.0         0.0                  NaN                    NaN   \n",
       "2          0.0         0.0                  NaN                    NaN   \n",
       "3          0.0         0.0                  3.0                    7.0   \n",
       "4          0.0         0.0                  4.0                    NaN   \n",
       "\n",
       "   calculatedbathnbr  decktypeid         ...           numberofstories  \\\n",
       "0                NaN         NaN         ...                       NaN   \n",
       "1                NaN         NaN         ...                       NaN   \n",
       "2                NaN         NaN         ...                       NaN   \n",
       "3                NaN         NaN         ...                       1.0   \n",
       "4                NaN         NaN         ...                       NaN   \n",
       "\n",
       "   fireplaceflag  structuretaxvaluedollarcnt  taxvaluedollarcnt  \\\n",
       "0            NaN                         NaN                9.0   \n",
       "1            NaN                         NaN            27516.0   \n",
       "2            NaN                    650756.0          1413387.0   \n",
       "3            NaN                    571346.0          1156834.0   \n",
       "4            NaN                    193796.0           433491.0   \n",
       "\n",
       "   assessmentyear  landtaxvaluedollarcnt  taxamount  taxdelinquencyflag  \\\n",
       "0          2015.0                    9.0        NaN                 NaN   \n",
       "1          2015.0                27516.0        NaN                 NaN   \n",
       "2          2015.0               762631.0   20800.37                 NaN   \n",
       "3          2015.0               585488.0   14557.57                 NaN   \n",
       "4          2015.0               239695.0    5725.17                 NaN   \n",
       "\n",
       "   taxdelinquencyyear  censustractandblock  \n",
       "0                 NaN                  NaN  \n",
       "1                 NaN                  NaN  \n",
       "2                 NaN                  NaN  \n",
       "3                 NaN                  NaN  \n",
       "4                 NaN                  NaN  \n",
       "\n",
       "[5 rows x 58 columns]"
      ]
     },
     "execution_count": 5,
     "metadata": {},
     "output_type": "execute_result"
    }
   ],
   "source": [
    "df_2016.head()"
   ]
  },
  {
   "cell_type": "code",
   "execution_count": 6,
   "metadata": {
    "ExecuteTime": {
     "end_time": "2018-12-14T00:30:35.892511Z",
     "start_time": "2018-12-14T00:30:34.040120Z"
    }
   },
   "outputs": [],
   "source": [
    "ct_2017 = len(df_2017)\n",
    "completeness = pd.DataFrame(df_2017.columns, columns=['col_name'])\n",
    "completeness['type'] = completeness.apply(lambda r: df_2017[r.col_name].dtypes, axis=1)\n",
    "completeness['%_null'] = completeness.apply(lambda r: df_2017[r.col_name].isnull().sum() / ct_2017, axis=1)"
   ]
  },
  {
   "cell_type": "code",
   "execution_count": 7,
   "metadata": {
    "ExecuteTime": {
     "end_time": "2018-12-14T00:30:35.910455Z",
     "start_time": "2018-12-14T00:30:35.894118Z"
    }
   },
   "outputs": [
    {
     "data": {
      "text/html": [
       "<div>\n",
       "<style scoped>\n",
       "    .dataframe tbody tr th:only-of-type {\n",
       "        vertical-align: middle;\n",
       "    }\n",
       "\n",
       "    .dataframe tbody tr th {\n",
       "        vertical-align: top;\n",
       "    }\n",
       "\n",
       "    .dataframe thead th {\n",
       "        text-align: right;\n",
       "    }\n",
       "</style>\n",
       "<table border=\"1\" class=\"dataframe\">\n",
       "  <thead>\n",
       "    <tr style=\"text-align: right;\">\n",
       "      <th></th>\n",
       "      <th>col_name</th>\n",
       "      <th>type</th>\n",
       "      <th>%_null</th>\n",
       "    </tr>\n",
       "  </thead>\n",
       "  <tbody>\n",
       "    <tr>\n",
       "      <th>0</th>\n",
       "      <td>parcelid</td>\n",
       "      <td>int64</td>\n",
       "      <td>0.000000</td>\n",
       "    </tr>\n",
       "    <tr>\n",
       "      <th>17</th>\n",
       "      <td>fips</td>\n",
       "      <td>float64</td>\n",
       "      <td>0.000982</td>\n",
       "    </tr>\n",
       "    <tr>\n",
       "      <th>33</th>\n",
       "      <td>propertylandusetypeid</td>\n",
       "      <td>float64</td>\n",
       "      <td>0.000982</td>\n",
       "    </tr>\n",
       "    <tr>\n",
       "      <th>35</th>\n",
       "      <td>rawcensustractandblock</td>\n",
       "      <td>float64</td>\n",
       "      <td>0.000982</td>\n",
       "    </tr>\n",
       "    <tr>\n",
       "      <th>37</th>\n",
       "      <td>regionidcounty</td>\n",
       "      <td>float64</td>\n",
       "      <td>0.000982</td>\n",
       "    </tr>\n",
       "    <tr>\n",
       "      <th>25</th>\n",
       "      <td>longitude</td>\n",
       "      <td>float64</td>\n",
       "      <td>0.000982</td>\n",
       "    </tr>\n",
       "    <tr>\n",
       "      <th>24</th>\n",
       "      <td>latitude</td>\n",
       "      <td>float64</td>\n",
       "      <td>0.000982</td>\n",
       "    </tr>\n",
       "    <tr>\n",
       "      <th>52</th>\n",
       "      <td>assessmentyear</td>\n",
       "      <td>float64</td>\n",
       "      <td>0.000983</td>\n",
       "    </tr>\n",
       "    <tr>\n",
       "      <th>5</th>\n",
       "      <td>bedroomcnt</td>\n",
       "      <td>float64</td>\n",
       "      <td>0.000987</td>\n",
       "    </tr>\n",
       "    <tr>\n",
       "      <th>4</th>\n",
       "      <td>bathroomcnt</td>\n",
       "      <td>float64</td>\n",
       "      <td>0.000991</td>\n",
       "    </tr>\n",
       "    <tr>\n",
       "      <th>40</th>\n",
       "      <td>roomcnt</td>\n",
       "      <td>float64</td>\n",
       "      <td>0.000995</td>\n",
       "    </tr>\n",
       "    <tr>\n",
       "      <th>32</th>\n",
       "      <td>propertycountylandusecode</td>\n",
       "      <td>object</td>\n",
       "      <td>0.001005</td>\n",
       "    </tr>\n",
       "    <tr>\n",
       "      <th>39</th>\n",
       "      <td>regionidzip</td>\n",
       "      <td>float64</td>\n",
       "      <td>0.004259</td>\n",
       "    </tr>\n",
       "    <tr>\n",
       "      <th>54</th>\n",
       "      <td>taxamount</td>\n",
       "      <td>float64</td>\n",
       "      <td>0.007622</td>\n",
       "    </tr>\n",
       "    <tr>\n",
       "      <th>51</th>\n",
       "      <td>taxvaluedollarcnt</td>\n",
       "      <td>float64</td>\n",
       "      <td>0.011479</td>\n",
       "    </tr>\n",
       "    <tr>\n",
       "      <th>11</th>\n",
       "      <td>calculatedfinishedsquarefeet</td>\n",
       "      <td>float64</td>\n",
       "      <td>0.015107</td>\n",
       "    </tr>\n",
       "    <tr>\n",
       "      <th>50</th>\n",
       "      <td>structuretaxvaluedollarcnt</td>\n",
       "      <td>float64</td>\n",
       "      <td>0.015565</td>\n",
       "    </tr>\n",
       "    <tr>\n",
       "      <th>47</th>\n",
       "      <td>yearbuilt</td>\n",
       "      <td>float64</td>\n",
       "      <td>0.016023</td>\n",
       "    </tr>\n",
       "    <tr>\n",
       "      <th>53</th>\n",
       "      <td>landtaxvaluedollarcnt</td>\n",
       "      <td>float64</td>\n",
       "      <td>0.020074</td>\n",
       "    </tr>\n",
       "    <tr>\n",
       "      <th>36</th>\n",
       "      <td>regionidcity</td>\n",
       "      <td>float64</td>\n",
       "      <td>0.020812</td>\n",
       "    </tr>\n",
       "    <tr>\n",
       "      <th>57</th>\n",
       "      <td>censustractandblock</td>\n",
       "      <td>float64</td>\n",
       "      <td>0.025119</td>\n",
       "    </tr>\n",
       "    <tr>\n",
       "      <th>19</th>\n",
       "      <td>fullbathcnt</td>\n",
       "      <td>float64</td>\n",
       "      <td>0.039245</td>\n",
       "    </tr>\n",
       "    <tr>\n",
       "      <th>8</th>\n",
       "      <td>calculatedbathnbr</td>\n",
       "      <td>float64</td>\n",
       "      <td>0.039245</td>\n",
       "    </tr>\n",
       "    <tr>\n",
       "      <th>12</th>\n",
       "      <td>finishedsquarefeet12</td>\n",
       "      <td>float64</td>\n",
       "      <td>0.088580</td>\n",
       "    </tr>\n",
       "    <tr>\n",
       "      <th>26</th>\n",
       "      <td>lotsizesquarefeet</td>\n",
       "      <td>float64</td>\n",
       "      <td>0.091352</td>\n",
       "    </tr>\n",
       "    <tr>\n",
       "      <th>34</th>\n",
       "      <td>propertyzoningdesc</td>\n",
       "      <td>object</td>\n",
       "      <td>0.335904</td>\n",
       "    </tr>\n",
       "    <tr>\n",
       "      <th>44</th>\n",
       "      <td>unitcnt</td>\n",
       "      <td>float64</td>\n",
       "      <td>0.336383</td>\n",
       "    </tr>\n",
       "    <tr>\n",
       "      <th>7</th>\n",
       "      <td>buildingqualitytypeid</td>\n",
       "      <td>float64</td>\n",
       "      <td>0.349664</td>\n",
       "    </tr>\n",
       "    <tr>\n",
       "      <th>23</th>\n",
       "      <td>heatingorsystemtypeid</td>\n",
       "      <td>float64</td>\n",
       "      <td>0.373860</td>\n",
       "    </tr>\n",
       "    <tr>\n",
       "      <th>38</th>\n",
       "      <td>regionidneighborhood</td>\n",
       "      <td>float64</td>\n",
       "      <td>0.612510</td>\n",
       "    </tr>\n",
       "    <tr>\n",
       "      <th>20</th>\n",
       "      <td>garagecarcnt</td>\n",
       "      <td>float64</td>\n",
       "      <td>0.701527</td>\n",
       "    </tr>\n",
       "    <tr>\n",
       "      <th>21</th>\n",
       "      <td>garagetotalsqft</td>\n",
       "      <td>float64</td>\n",
       "      <td>0.701527</td>\n",
       "    </tr>\n",
       "    <tr>\n",
       "      <th>1</th>\n",
       "      <td>airconditioningtypeid</td>\n",
       "      <td>float64</td>\n",
       "      <td>0.726867</td>\n",
       "    </tr>\n",
       "    <tr>\n",
       "      <th>48</th>\n",
       "      <td>numberofstories</td>\n",
       "      <td>float64</td>\n",
       "      <td>0.770309</td>\n",
       "    </tr>\n",
       "    <tr>\n",
       "      <th>27</th>\n",
       "      <td>poolcnt</td>\n",
       "      <td>float64</td>\n",
       "      <td>0.819232</td>\n",
       "    </tr>\n",
       "    <tr>\n",
       "      <th>31</th>\n",
       "      <td>pooltypeid7</td>\n",
       "      <td>float64</td>\n",
       "      <td>0.830533</td>\n",
       "    </tr>\n",
       "    <tr>\n",
       "      <th>42</th>\n",
       "      <td>threequarterbathnbr</td>\n",
       "      <td>float64</td>\n",
       "      <td>0.894025</td>\n",
       "    </tr>\n",
       "    <tr>\n",
       "      <th>18</th>\n",
       "      <td>fireplacecnt</td>\n",
       "      <td>float64</td>\n",
       "      <td>0.895108</td>\n",
       "    </tr>\n",
       "    <tr>\n",
       "      <th>10</th>\n",
       "      <td>finishedfloor1squarefeet</td>\n",
       "      <td>float64</td>\n",
       "      <td>0.931744</td>\n",
       "    </tr>\n",
       "    <tr>\n",
       "      <th>15</th>\n",
       "      <td>finishedsquarefeet50</td>\n",
       "      <td>float64</td>\n",
       "      <td>0.931744</td>\n",
       "    </tr>\n",
       "    <tr>\n",
       "      <th>14</th>\n",
       "      <td>finishedsquarefeet15</td>\n",
       "      <td>float64</td>\n",
       "      <td>0.936291</td>\n",
       "    </tr>\n",
       "    <tr>\n",
       "      <th>45</th>\n",
       "      <td>yardbuildingsqft17</td>\n",
       "      <td>float64</td>\n",
       "      <td>0.972669</td>\n",
       "    </tr>\n",
       "    <tr>\n",
       "      <th>56</th>\n",
       "      <td>taxdelinquencyyear</td>\n",
       "      <td>float64</td>\n",
       "      <td>0.981068</td>\n",
       "    </tr>\n",
       "    <tr>\n",
       "      <th>55</th>\n",
       "      <td>taxdelinquencyflag</td>\n",
       "      <td>object</td>\n",
       "      <td>0.981068</td>\n",
       "    </tr>\n",
       "    <tr>\n",
       "      <th>22</th>\n",
       "      <td>hashottuborspa</td>\n",
       "      <td>object</td>\n",
       "      <td>0.983230</td>\n",
       "    </tr>\n",
       "    <tr>\n",
       "      <th>30</th>\n",
       "      <td>pooltypeid2</td>\n",
       "      <td>float64</td>\n",
       "      <td>0.988927</td>\n",
       "    </tr>\n",
       "    <tr>\n",
       "      <th>28</th>\n",
       "      <td>poolsizesum</td>\n",
       "      <td>float64</td>\n",
       "      <td>0.990635</td>\n",
       "    </tr>\n",
       "    <tr>\n",
       "      <th>16</th>\n",
       "      <td>finishedsquarefeet6</td>\n",
       "      <td>float64</td>\n",
       "      <td>0.992804</td>\n",
       "    </tr>\n",
       "    <tr>\n",
       "      <th>9</th>\n",
       "      <td>decktypeid</td>\n",
       "      <td>float64</td>\n",
       "      <td>0.994178</td>\n",
       "    </tr>\n",
       "    <tr>\n",
       "      <th>29</th>\n",
       "      <td>pooltypeid10</td>\n",
       "      <td>float64</td>\n",
       "      <td>0.994303</td>\n",
       "    </tr>\n",
       "    <tr>\n",
       "      <th>6</th>\n",
       "      <td>buildingclasstypeid</td>\n",
       "      <td>float64</td>\n",
       "      <td>0.995735</td>\n",
       "    </tr>\n",
       "    <tr>\n",
       "      <th>13</th>\n",
       "      <td>finishedsquarefeet13</td>\n",
       "      <td>float64</td>\n",
       "      <td>0.997430</td>\n",
       "    </tr>\n",
       "    <tr>\n",
       "      <th>43</th>\n",
       "      <td>typeconstructiontypeid</td>\n",
       "      <td>float64</td>\n",
       "      <td>0.997740</td>\n",
       "    </tr>\n",
       "    <tr>\n",
       "      <th>2</th>\n",
       "      <td>architecturalstyletypeid</td>\n",
       "      <td>float64</td>\n",
       "      <td>0.997970</td>\n",
       "    </tr>\n",
       "    <tr>\n",
       "      <th>49</th>\n",
       "      <td>fireplaceflag</td>\n",
       "      <td>object</td>\n",
       "      <td>0.998270</td>\n",
       "    </tr>\n",
       "    <tr>\n",
       "      <th>46</th>\n",
       "      <td>yardbuildingsqft26</td>\n",
       "      <td>float64</td>\n",
       "      <td>0.999114</td>\n",
       "    </tr>\n",
       "    <tr>\n",
       "      <th>3</th>\n",
       "      <td>basementsqft</td>\n",
       "      <td>float64</td>\n",
       "      <td>0.999455</td>\n",
       "    </tr>\n",
       "    <tr>\n",
       "      <th>41</th>\n",
       "      <td>storytypeid</td>\n",
       "      <td>float64</td>\n",
       "      <td>0.999456</td>\n",
       "    </tr>\n",
       "  </tbody>\n",
       "</table>\n",
       "</div>"
      ],
      "text/plain": [
       "                        col_name     type    %_null\n",
       "0                       parcelid    int64  0.000000\n",
       "17                          fips  float64  0.000982\n",
       "33         propertylandusetypeid  float64  0.000982\n",
       "35        rawcensustractandblock  float64  0.000982\n",
       "37                regionidcounty  float64  0.000982\n",
       "25                     longitude  float64  0.000982\n",
       "24                      latitude  float64  0.000982\n",
       "52                assessmentyear  float64  0.000983\n",
       "5                     bedroomcnt  float64  0.000987\n",
       "4                    bathroomcnt  float64  0.000991\n",
       "40                       roomcnt  float64  0.000995\n",
       "32     propertycountylandusecode   object  0.001005\n",
       "39                   regionidzip  float64  0.004259\n",
       "54                     taxamount  float64  0.007622\n",
       "51             taxvaluedollarcnt  float64  0.011479\n",
       "11  calculatedfinishedsquarefeet  float64  0.015107\n",
       "50    structuretaxvaluedollarcnt  float64  0.015565\n",
       "47                     yearbuilt  float64  0.016023\n",
       "53         landtaxvaluedollarcnt  float64  0.020074\n",
       "36                  regionidcity  float64  0.020812\n",
       "57           censustractandblock  float64  0.025119\n",
       "19                   fullbathcnt  float64  0.039245\n",
       "8              calculatedbathnbr  float64  0.039245\n",
       "12          finishedsquarefeet12  float64  0.088580\n",
       "26             lotsizesquarefeet  float64  0.091352\n",
       "34            propertyzoningdesc   object  0.335904\n",
       "44                       unitcnt  float64  0.336383\n",
       "7          buildingqualitytypeid  float64  0.349664\n",
       "23         heatingorsystemtypeid  float64  0.373860\n",
       "38          regionidneighborhood  float64  0.612510\n",
       "20                  garagecarcnt  float64  0.701527\n",
       "21               garagetotalsqft  float64  0.701527\n",
       "1          airconditioningtypeid  float64  0.726867\n",
       "48               numberofstories  float64  0.770309\n",
       "27                       poolcnt  float64  0.819232\n",
       "31                   pooltypeid7  float64  0.830533\n",
       "42           threequarterbathnbr  float64  0.894025\n",
       "18                  fireplacecnt  float64  0.895108\n",
       "10      finishedfloor1squarefeet  float64  0.931744\n",
       "15          finishedsquarefeet50  float64  0.931744\n",
       "14          finishedsquarefeet15  float64  0.936291\n",
       "45            yardbuildingsqft17  float64  0.972669\n",
       "56            taxdelinquencyyear  float64  0.981068\n",
       "55            taxdelinquencyflag   object  0.981068\n",
       "22                hashottuborspa   object  0.983230\n",
       "30                   pooltypeid2  float64  0.988927\n",
       "28                   poolsizesum  float64  0.990635\n",
       "16           finishedsquarefeet6  float64  0.992804\n",
       "9                     decktypeid  float64  0.994178\n",
       "29                  pooltypeid10  float64  0.994303\n",
       "6            buildingclasstypeid  float64  0.995735\n",
       "13          finishedsquarefeet13  float64  0.997430\n",
       "43        typeconstructiontypeid  float64  0.997740\n",
       "2       architecturalstyletypeid  float64  0.997970\n",
       "49                 fireplaceflag   object  0.998270\n",
       "46            yardbuildingsqft26  float64  0.999114\n",
       "3                   basementsqft  float64  0.999455\n",
       "41                   storytypeid  float64  0.999456"
      ]
     },
     "execution_count": 7,
     "metadata": {},
     "output_type": "execute_result"
    }
   ],
   "source": [
    "completeness.sort_values('%_null')"
   ]
  },
  {
   "cell_type": "code",
   "execution_count": 8,
   "metadata": {
    "ExecuteTime": {
     "end_time": "2018-12-14T00:30:36.961923Z",
     "start_time": "2018-12-14T00:30:35.912569Z"
    }
   },
   "outputs": [
    {
     "data": {
      "text/plain": [
       "True"
      ]
     },
     "execution_count": 8,
     "metadata": {},
     "output_type": "execute_result"
    }
   ],
   "source": [
    "# Do 2016 and 2017 parcel_ids match? Yes.\n",
    "set(df_2016.parcelid) == set(df_2017.parcelid)"
   ]
  },
  {
   "cell_type": "code",
   "execution_count": 9,
   "metadata": {
    "ExecuteTime": {
     "end_time": "2018-12-14T00:30:53.254690Z",
     "start_time": "2018-12-14T00:30:36.963775Z"
    }
   },
   "outputs": [
    {
     "data": {
      "text/plain": [
       "0.015247363301987393"
      ]
     },
     "execution_count": 9,
     "metadata": {},
     "output_type": "execute_result"
    }
   ],
   "source": [
    "# Do assessment values differ in 2016 and 2017? Yes, by +1.5% median\n",
    "df = df_2016.join(df_2017.set_index('parcelid'), on='parcelid', how='left', rsuffix='_2017')\n",
    "\n",
    "df['delta'] = df['taxvaluedollarcnt_2017'] / df['taxvaluedollarcnt'] - 1.0\n",
    "df[[\n",
    "    'parcelid',\n",
    "    'taxvaluedollarcnt',\n",
    "    'taxvaluedollarcnt_2017',\n",
    "    'delta',\n",
    "]].head(5)\n",
    "df.delta.median()"
   ]
  },
  {
   "cell_type": "code",
   "execution_count": 10,
   "metadata": {
    "ExecuteTime": {
     "end_time": "2018-12-14T00:30:53.301953Z",
     "start_time": "2018-12-14T00:30:53.257813Z"
    }
   },
   "outputs": [
    {
     "data": {
      "text/plain": [
       "0.0"
      ]
     },
     "execution_count": 10,
     "metadata": {},
     "output_type": "execute_result"
    }
   ],
   "source": [
    "# Does total assessment value equal structure + land value? Yes\n",
    "df['assessment_value_check'] = df.taxvaluedollarcnt - df.landtaxvaluedollarcnt - df.structuretaxvaluedollarcnt\n",
    "df.assessment_value_check.sum()\n",
    "#df[['taxvaluedollarcnt', 'landtaxvaluedollarcnt', 'structuretaxvaluedollarcnt', 'assessment_value_check']]"
   ]
  },
  {
   "cell_type": "markdown",
   "metadata": {
    "ExecuteTime": {
     "end_time": "2018-12-12T20:48:58.871578Z",
     "start_time": "2018-12-12T20:48:58.869063Z"
    }
   },
   "source": [
    "### Map Dictionary Values"
   ]
  },
  {
   "cell_type": "code",
   "execution_count": 11,
   "metadata": {
    "ExecuteTime": {
     "end_time": "2018-12-14T00:30:53.378901Z",
     "start_time": "2018-12-14T00:30:53.304089Z"
    }
   },
   "outputs": [
    {
     "data": {
      "text/html": [
       "<div>\n",
       "<style scoped>\n",
       "    .dataframe tbody tr th:only-of-type {\n",
       "        vertical-align: middle;\n",
       "    }\n",
       "\n",
       "    .dataframe tbody tr th {\n",
       "        vertical-align: top;\n",
       "    }\n",
       "\n",
       "    .dataframe thead th {\n",
       "        text-align: right;\n",
       "    }\n",
       "</style>\n",
       "<table border=\"1\" class=\"dataframe\">\n",
       "  <thead>\n",
       "    <tr style=\"text-align: right;\">\n",
       "      <th></th>\n",
       "      <th>propertylandusetypeid</th>\n",
       "      <th>prop_description</th>\n",
       "    </tr>\n",
       "  </thead>\n",
       "  <tbody>\n",
       "    <tr>\n",
       "      <th>0</th>\n",
       "      <td>31</td>\n",
       "      <td>Commercial/Office/Residential Mixed Used</td>\n",
       "    </tr>\n",
       "    <tr>\n",
       "      <th>1</th>\n",
       "      <td>46</td>\n",
       "      <td>Multi-Story Store</td>\n",
       "    </tr>\n",
       "    <tr>\n",
       "      <th>2</th>\n",
       "      <td>47</td>\n",
       "      <td>Store/Office (Mixed Use)</td>\n",
       "    </tr>\n",
       "    <tr>\n",
       "      <th>3</th>\n",
       "      <td>246</td>\n",
       "      <td>Duplex (2 Units, Any Combination)</td>\n",
       "    </tr>\n",
       "    <tr>\n",
       "      <th>4</th>\n",
       "      <td>247</td>\n",
       "      <td>Triplex (3 Units, Any Combination)</td>\n",
       "    </tr>\n",
       "    <tr>\n",
       "      <th>5</th>\n",
       "      <td>248</td>\n",
       "      <td>Quadruplex (4 Units, Any Combination)</td>\n",
       "    </tr>\n",
       "    <tr>\n",
       "      <th>6</th>\n",
       "      <td>260</td>\n",
       "      <td>Residential General</td>\n",
       "    </tr>\n",
       "    <tr>\n",
       "      <th>7</th>\n",
       "      <td>261</td>\n",
       "      <td>Single Family Residential</td>\n",
       "    </tr>\n",
       "    <tr>\n",
       "      <th>8</th>\n",
       "      <td>262</td>\n",
       "      <td>Rural Residence</td>\n",
       "    </tr>\n",
       "    <tr>\n",
       "      <th>9</th>\n",
       "      <td>263</td>\n",
       "      <td>Mobile Home</td>\n",
       "    </tr>\n",
       "    <tr>\n",
       "      <th>10</th>\n",
       "      <td>264</td>\n",
       "      <td>Townhouse</td>\n",
       "    </tr>\n",
       "    <tr>\n",
       "      <th>11</th>\n",
       "      <td>265</td>\n",
       "      <td>Cluster Home</td>\n",
       "    </tr>\n",
       "    <tr>\n",
       "      <th>12</th>\n",
       "      <td>266</td>\n",
       "      <td>Condominium</td>\n",
       "    </tr>\n",
       "    <tr>\n",
       "      <th>13</th>\n",
       "      <td>267</td>\n",
       "      <td>Cooperative</td>\n",
       "    </tr>\n",
       "    <tr>\n",
       "      <th>14</th>\n",
       "      <td>268</td>\n",
       "      <td>Row House</td>\n",
       "    </tr>\n",
       "    <tr>\n",
       "      <th>15</th>\n",
       "      <td>269</td>\n",
       "      <td>Planned Unit Development</td>\n",
       "    </tr>\n",
       "    <tr>\n",
       "      <th>16</th>\n",
       "      <td>270</td>\n",
       "      <td>Residential Common Area</td>\n",
       "    </tr>\n",
       "    <tr>\n",
       "      <th>17</th>\n",
       "      <td>271</td>\n",
       "      <td>Timeshare</td>\n",
       "    </tr>\n",
       "    <tr>\n",
       "      <th>18</th>\n",
       "      <td>273</td>\n",
       "      <td>Bungalow</td>\n",
       "    </tr>\n",
       "    <tr>\n",
       "      <th>19</th>\n",
       "      <td>274</td>\n",
       "      <td>Zero Lot Line</td>\n",
       "    </tr>\n",
       "    <tr>\n",
       "      <th>20</th>\n",
       "      <td>275</td>\n",
       "      <td>Manufactured, Modular, Prefabricated Homes</td>\n",
       "    </tr>\n",
       "    <tr>\n",
       "      <th>21</th>\n",
       "      <td>276</td>\n",
       "      <td>Patio Home</td>\n",
       "    </tr>\n",
       "    <tr>\n",
       "      <th>22</th>\n",
       "      <td>279</td>\n",
       "      <td>Inferred Single Family Residential</td>\n",
       "    </tr>\n",
       "    <tr>\n",
       "      <th>23</th>\n",
       "      <td>290</td>\n",
       "      <td>Vacant Land - General</td>\n",
       "    </tr>\n",
       "    <tr>\n",
       "      <th>24</th>\n",
       "      <td>291</td>\n",
       "      <td>Residential Vacant Land</td>\n",
       "    </tr>\n",
       "  </tbody>\n",
       "</table>\n",
       "</div>"
      ],
      "text/plain": [
       "    propertylandusetypeid                            prop_description\n",
       "0                      31    Commercial/Office/Residential Mixed Used\n",
       "1                      46                           Multi-Story Store\n",
       "2                      47                    Store/Office (Mixed Use)\n",
       "3                     246           Duplex (2 Units, Any Combination)\n",
       "4                     247          Triplex (3 Units, Any Combination)\n",
       "5                     248       Quadruplex (4 Units, Any Combination)\n",
       "6                     260                         Residential General\n",
       "7                     261                   Single Family Residential\n",
       "8                     262                             Rural Residence\n",
       "9                     263                                 Mobile Home\n",
       "10                    264                                   Townhouse\n",
       "11                    265                                Cluster Home\n",
       "12                    266                                 Condominium\n",
       "13                    267                                 Cooperative\n",
       "14                    268                                   Row House\n",
       "15                    269                    Planned Unit Development\n",
       "16                    270                     Residential Common Area\n",
       "17                    271                                   Timeshare\n",
       "18                    273                                    Bungalow\n",
       "19                    274                               Zero Lot Line\n",
       "20                    275  Manufactured, Modular, Prefabricated Homes\n",
       "21                    276                                  Patio Home\n",
       "22                    279          Inferred Single Family Residential\n",
       "23                    290                       Vacant Land - General\n",
       "24                    291                     Residential Vacant Land"
      ]
     },
     "execution_count": 11,
     "metadata": {},
     "output_type": "execute_result"
    }
   ],
   "source": [
    "prop_types = pd.read_excel('../data/zillow_data_dictionary.xlsx', \n",
    "                           sheet_name='PropertyLandUseTypeID', \n",
    "                           names=['propertylandusetypeid', 'prop_description'])\n",
    "prop_types"
   ]
  },
  {
   "cell_type": "code",
   "execution_count": 12,
   "metadata": {
    "ExecuteTime": {
     "end_time": "2018-12-14T00:30:55.641184Z",
     "start_time": "2018-12-14T00:30:53.380748Z"
    }
   },
   "outputs": [],
   "source": [
    "df_2017 = df_2017.join(\n",
    "    prop_types.set_index('propertylandusetypeid'),\n",
    "    on='propertylandusetypeid')"
   ]
  },
  {
   "cell_type": "markdown",
   "metadata": {},
   "source": [
    "## Predict SFH total assessment value in 2017\n",
    "- Filter to only legitimate total assessed values ($100K-$1M)\n",
    "- Filter to only columns that are >90% complete (there is a natural split here)\n",
    "- Imput missing data for selected columns\n",
    "- Examine categorical features\n",
    "- Run regression\n",
    "- Features to consider adding back\n",
    " - FIPS\n",
    " - Various location features\n",
    " - Land Use Code\n",
    " - Bath counts\n",
    " "
   ]
  },
  {
   "cell_type": "code",
   "execution_count": 13,
   "metadata": {
    "ExecuteTime": {
     "end_time": "2018-12-14T00:30:55.649728Z",
     "start_time": "2018-12-14T00:30:55.643463Z"
    }
   },
   "outputs": [],
   "source": [
    "features = [\n",
    "#     'fips', # Federal Information Processing Standard code\n",
    "#     'propertylandusetypeid', # Categorical - 16 values\n",
    "    'prop_description', # Categorical - 16 values\n",
    "#     'rawcensustractandblock',\n",
    "#     'regionidcounty',\n",
    "#     'longitude',\n",
    "#     'latitude',\n",
    "#     'assessmentyear', #Almost 100% from 2016\n",
    "    'bedroomcnt', # Exclude count > 6\n",
    "    'bathroomcnt', # Exclude count > 10\n",
    "    'roomcnt', # Exclude count > 20\n",
    "#     'propertycountylandusecode', - Long tail, examine in more detail\n",
    "#     'regionidzip',\n",
    "#     'taxamount', #Data leakage?\n",
    "#     'calculatedfinishedsquarefeet', #Seems to be identical to finishedsquarefeet12\n",
    "    'yearbuilt',\n",
    "#     'regionidcity',\n",
    "#     'censustractandblock',\n",
    "#     'fullbathcnt', #Consider for addback\n",
    "#     'calculatedbathnbr', #Consider for addback\n",
    "    'finishedsquarefeet12',\n",
    "    'lotsizesquarefeet'\n",
    "]\n",
    "\n",
    "labels = [\n",
    "    'taxvaluedollarcnt',\n",
    "    'structuretaxvaluedollarcnt',\n",
    "    'landtaxvaluedollarcnt',\n",
    "]"
   ]
  },
  {
   "cell_type": "code",
   "execution_count": 14,
   "metadata": {
    "ExecuteTime": {
     "end_time": "2018-12-14T00:30:59.700540Z",
     "start_time": "2018-12-14T00:30:55.654253Z"
    }
   },
   "outputs": [
    {
     "data": {
      "text/plain": [
       "(2430767, 10)"
      ]
     },
     "execution_count": 14,
     "metadata": {},
     "output_type": "execute_result"
    }
   ],
   "source": [
    "# Filter on total assessed value\n",
    "df = df_2017[features + labels]\n",
    "df = df[(df.taxvaluedollarcnt > 100000) & (df.taxvaluedollarcnt < 1000000)]\n",
    "df.describe()\n",
    "df.shape"
   ]
  },
  {
   "cell_type": "code",
   "execution_count": 15,
   "metadata": {
    "ExecuteTime": {
     "end_time": "2018-12-14T00:31:00.220269Z",
     "start_time": "2018-12-14T00:30:59.702870Z"
    }
   },
   "outputs": [
    {
     "data": {
      "text/plain": [
       "(1741590, 10)"
      ]
     },
     "execution_count": 15,
     "metadata": {},
     "output_type": "execute_result"
    }
   ],
   "source": [
    "#Filter on Single Family Homes \n",
    "df.prop_description.value_counts()\n",
    "df = df[df.prop_description == 'Single Family Residential']\n",
    "df.shape"
   ]
  },
  {
   "cell_type": "code",
   "execution_count": 16,
   "metadata": {
    "ExecuteTime": {
     "end_time": "2018-12-14T00:31:00.471242Z",
     "start_time": "2018-12-14T00:31:00.222505Z"
    }
   },
   "outputs": [
    {
     "data": {
      "text/plain": [
       "(1732506, 10)"
      ]
     },
     "execution_count": 16,
     "metadata": {},
     "output_type": "execute_result"
    }
   ],
   "source": [
    "# Filter on bedroom, bathroom, and total room counts\n",
    "df = df[(df.bedroomcnt <= 6) & (df.bedroomcnt >= 1)]\n",
    "df = df[(df.bathroomcnt <= 10) & (df.bathroomcnt >= 1)]\n",
    "df = df[(df.roomcnt <= 20)]\n",
    "df.shape"
   ]
  },
  {
   "cell_type": "code",
   "execution_count": 17,
   "metadata": {
    "ExecuteTime": {
     "end_time": "2018-12-14T00:31:00.552729Z",
     "start_time": "2018-12-14T00:31:00.473293Z"
    }
   },
   "outputs": [
    {
     "data": {
      "text/plain": [
       "1236223"
      ]
     },
     "execution_count": 17,
     "metadata": {},
     "output_type": "execute_result"
    }
   ],
   "source": [
    "#Note ~70% of SFH have no rooms (except bd/br)\n",
    "len(df[(df.roomcnt == 0)])"
   ]
  },
  {
   "cell_type": "code",
   "execution_count": 18,
   "metadata": {
    "ExecuteTime": {
     "end_time": "2018-12-14T00:31:01.010504Z",
     "start_time": "2018-12-14T00:31:00.557749Z"
    }
   },
   "outputs": [
    {
     "name": "stdout",
     "output_type": "stream",
     "text": [
      "0.91% dropped\n"
     ]
    },
    {
     "data": {
      "text/plain": [
       "(1716691, 10)"
      ]
     },
     "execution_count": 18,
     "metadata": {},
     "output_type": "execute_result"
    }
   ],
   "source": [
    "#Drop all rows with null values\n",
    "tmp = df.dropna()\n",
    "print('{:.2f}% dropped'.format((1 - len(tmp) / len(df)) * 100))\n",
    "df = tmp\n",
    "df.shape"
   ]
  },
  {
   "cell_type": "code",
   "execution_count": 19,
   "metadata": {
    "ExecuteTime": {
     "end_time": "2018-12-14T00:31:01.982935Z",
     "start_time": "2018-12-14T00:31:01.013148Z"
    }
   },
   "outputs": [
    {
     "data": {
      "text/html": [
       "<div>\n",
       "<style scoped>\n",
       "    .dataframe tbody tr th:only-of-type {\n",
       "        vertical-align: middle;\n",
       "    }\n",
       "\n",
       "    .dataframe tbody tr th {\n",
       "        vertical-align: top;\n",
       "    }\n",
       "\n",
       "    .dataframe thead th {\n",
       "        text-align: right;\n",
       "    }\n",
       "</style>\n",
       "<table border=\"1\" class=\"dataframe\">\n",
       "  <thead>\n",
       "    <tr style=\"text-align: right;\">\n",
       "      <th></th>\n",
       "      <th>bedroomcnt</th>\n",
       "      <th>bathroomcnt</th>\n",
       "      <th>roomcnt</th>\n",
       "      <th>yearbuilt</th>\n",
       "      <th>finishedsquarefeet12</th>\n",
       "      <th>lotsizesquarefeet</th>\n",
       "      <th>taxvaluedollarcnt</th>\n",
       "      <th>structuretaxvaluedollarcnt</th>\n",
       "      <th>landtaxvaluedollarcnt</th>\n",
       "    </tr>\n",
       "  </thead>\n",
       "  <tbody>\n",
       "    <tr>\n",
       "      <th>count</th>\n",
       "      <td>1.716691e+06</td>\n",
       "      <td>1.716691e+06</td>\n",
       "      <td>1.716691e+06</td>\n",
       "      <td>1.716691e+06</td>\n",
       "      <td>1.716691e+06</td>\n",
       "      <td>1.716691e+06</td>\n",
       "      <td>1.716691e+06</td>\n",
       "      <td>1.716691e+06</td>\n",
       "      <td>1.716691e+06</td>\n",
       "    </tr>\n",
       "    <tr>\n",
       "      <th>mean</th>\n",
       "      <td>3.288190e+00</td>\n",
       "      <td>2.178946e+00</td>\n",
       "      <td>1.939569e+00</td>\n",
       "      <td>1.961290e+03</td>\n",
       "      <td>1.776525e+03</td>\n",
       "      <td>9.861931e+03</td>\n",
       "      <td>3.870467e+05</td>\n",
       "      <td>1.537058e+05</td>\n",
       "      <td>2.333409e+05</td>\n",
       "    </tr>\n",
       "    <tr>\n",
       "      <th>std</th>\n",
       "      <td>8.618669e-01</td>\n",
       "      <td>8.020789e-01</td>\n",
       "      <td>3.154777e+00</td>\n",
       "      <td>2.147503e+01</td>\n",
       "      <td>6.990849e+02</td>\n",
       "      <td>7.456694e+04</td>\n",
       "      <td>2.045949e+05</td>\n",
       "      <td>9.568679e+04</td>\n",
       "      <td>1.599886e+05</td>\n",
       "    </tr>\n",
       "    <tr>\n",
       "      <th>min</th>\n",
       "      <td>1.000000e+00</td>\n",
       "      <td>1.000000e+00</td>\n",
       "      <td>0.000000e+00</td>\n",
       "      <td>1.801000e+03</td>\n",
       "      <td>1.000000e+00</td>\n",
       "      <td>1.040000e+02</td>\n",
       "      <td>1.000010e+05</td>\n",
       "      <td>9.000000e+00</td>\n",
       "      <td>3.000000e+01</td>\n",
       "    </tr>\n",
       "    <tr>\n",
       "      <th>25%</th>\n",
       "      <td>3.000000e+00</td>\n",
       "      <td>2.000000e+00</td>\n",
       "      <td>0.000000e+00</td>\n",
       "      <td>1.950000e+03</td>\n",
       "      <td>1.272000e+03</td>\n",
       "      <td>5.600000e+03</td>\n",
       "      <td>2.273230e+05</td>\n",
       "      <td>8.702300e+04</td>\n",
       "      <td>1.096450e+05</td>\n",
       "    </tr>\n",
       "    <tr>\n",
       "      <th>50%</th>\n",
       "      <td>3.000000e+00</td>\n",
       "      <td>2.000000e+00</td>\n",
       "      <td>0.000000e+00</td>\n",
       "      <td>1.959000e+03</td>\n",
       "      <td>1.628000e+03</td>\n",
       "      <td>6.728000e+03</td>\n",
       "      <td>3.430220e+05</td>\n",
       "      <td>1.281730e+05</td>\n",
       "      <td>1.957480e+05</td>\n",
       "    </tr>\n",
       "    <tr>\n",
       "      <th>75%</th>\n",
       "      <td>4.000000e+00</td>\n",
       "      <td>3.000000e+00</td>\n",
       "      <td>5.000000e+00</td>\n",
       "      <td>1.976000e+03</td>\n",
       "      <td>2.150000e+03</td>\n",
       "      <td>8.330000e+03</td>\n",
       "      <td>5.054130e+05</td>\n",
       "      <td>1.931710e+05</td>\n",
       "      <td>3.258880e+05</td>\n",
       "    </tr>\n",
       "    <tr>\n",
       "      <th>max</th>\n",
       "      <td>6.000000e+00</td>\n",
       "      <td>1.000000e+01</td>\n",
       "      <td>1.900000e+01</td>\n",
       "      <td>2.016000e+03</td>\n",
       "      <td>5.922000e+04</td>\n",
       "      <td>2.843090e+07</td>\n",
       "      <td>9.999990e+05</td>\n",
       "      <td>9.708360e+05</td>\n",
       "      <td>9.900000e+05</td>\n",
       "    </tr>\n",
       "  </tbody>\n",
       "</table>\n",
       "</div>"
      ],
      "text/plain": [
       "         bedroomcnt   bathroomcnt       roomcnt     yearbuilt  \\\n",
       "count  1.716691e+06  1.716691e+06  1.716691e+06  1.716691e+06   \n",
       "mean   3.288190e+00  2.178946e+00  1.939569e+00  1.961290e+03   \n",
       "std    8.618669e-01  8.020789e-01  3.154777e+00  2.147503e+01   \n",
       "min    1.000000e+00  1.000000e+00  0.000000e+00  1.801000e+03   \n",
       "25%    3.000000e+00  2.000000e+00  0.000000e+00  1.950000e+03   \n",
       "50%    3.000000e+00  2.000000e+00  0.000000e+00  1.959000e+03   \n",
       "75%    4.000000e+00  3.000000e+00  5.000000e+00  1.976000e+03   \n",
       "max    6.000000e+00  1.000000e+01  1.900000e+01  2.016000e+03   \n",
       "\n",
       "       finishedsquarefeet12  lotsizesquarefeet  taxvaluedollarcnt  \\\n",
       "count          1.716691e+06       1.716691e+06       1.716691e+06   \n",
       "mean           1.776525e+03       9.861931e+03       3.870467e+05   \n",
       "std            6.990849e+02       7.456694e+04       2.045949e+05   \n",
       "min            1.000000e+00       1.040000e+02       1.000010e+05   \n",
       "25%            1.272000e+03       5.600000e+03       2.273230e+05   \n",
       "50%            1.628000e+03       6.728000e+03       3.430220e+05   \n",
       "75%            2.150000e+03       8.330000e+03       5.054130e+05   \n",
       "max            5.922000e+04       2.843090e+07       9.999990e+05   \n",
       "\n",
       "       structuretaxvaluedollarcnt  landtaxvaluedollarcnt  \n",
       "count                1.716691e+06           1.716691e+06  \n",
       "mean                 1.537058e+05           2.333409e+05  \n",
       "std                  9.568679e+04           1.599886e+05  \n",
       "min                  9.000000e+00           3.000000e+01  \n",
       "25%                  8.702300e+04           1.096450e+05  \n",
       "50%                  1.281730e+05           1.957480e+05  \n",
       "75%                  1.931710e+05           3.258880e+05  \n",
       "max                  9.708360e+05           9.900000e+05  "
      ]
     },
     "execution_count": 19,
     "metadata": {},
     "output_type": "execute_result"
    }
   ],
   "source": [
    "df.describe()"
   ]
  },
  {
   "cell_type": "code",
   "execution_count": 20,
   "metadata": {
    "ExecuteTime": {
     "end_time": "2018-12-14T00:31:03.042012Z",
     "start_time": "2018-12-14T00:31:01.985039Z"
    }
   },
   "outputs": [
    {
     "data": {
      "image/png": "[encoded data removed]",
      "text/plain": [
       "<Figure size 1332x432 with 3 Axes>"
      ]
     },
     "metadata": {
      "needs_background": "light"
     },
     "output_type": "display_data"
    }
   ],
   "source": [
    "fig = plt.gcf()\n",
    "fig.set_size_inches(18.5, 6)\n",
    "\n",
    "plt.subplot(1,3,1)\n",
    "plt.title('Total Value')\n",
    "df.taxvaluedollarcnt.hist(bins=100)\n",
    "\n",
    "plt.subplot(1,3,2)\n",
    "plt.title('Structure Value')\n",
    "df.structuretaxvaluedollarcnt.hist(bins=100);\n",
    "\n",
    "plt.subplot(1,3,3)\n",
    "plt.title('Land Value')\n",
    "df.landtaxvaluedollarcnt.hist(bins=100);\n",
    "\n",
    "plt.show()"
   ]
  },
  {
   "cell_type": "code",
   "execution_count": 21,
   "metadata": {
    "ExecuteTime": {
     "end_time": "2018-12-14T00:31:03.121938Z",
     "start_time": "2018-12-14T00:31:03.043841Z"
    }
   },
   "outputs": [
    {
     "name": "stdout",
     "output_type": "stream",
     "text": [
      "Skewness: 90.985162\n",
      "Kurtosis: 23354.431370\n"
     ]
    }
   ],
   "source": [
    "print(\"Skewness: %f\" % df_2017.taxvaluedollarcnt.skew())\n",
    "print(\"Kurtosis: %f\" % df_2017.taxvaluedollarcnt.kurt())"
   ]
  },
  {
   "cell_type": "markdown",
   "metadata": {
    "ExecuteTime": {
     "end_time": "2018-12-12T21:36:18.927903Z",
     "start_time": "2018-12-12T21:36:18.924859Z"
    }
   },
   "source": [
    "## Linear Regression"
   ]
  },
  {
   "cell_type": "code",
   "execution_count": 22,
   "metadata": {
    "ExecuteTime": {
     "end_time": "2018-12-14T00:31:03.317112Z",
     "start_time": "2018-12-14T00:31:03.123452Z"
    }
   },
   "outputs": [],
   "source": [
    "feature_col = [\n",
    "    'bedroomcnt',\n",
    "    'bathroomcnt',\n",
    "    'roomcnt',\n",
    "    'yearbuilt',\n",
    "    'finishedsquarefeet12',\n",
    "    'lotsizesquarefeet'\n",
    "]\n",
    "\n",
    "target_col = 'taxvaluedollarcnt'\n",
    "\n",
    "matrix = df[feature_col + [target_col]]\n",
    "assert(matrix.isnull().sum().sum() == 0)"
   ]
  },
  {
   "cell_type": "code",
   "execution_count": 25,
   "metadata": {
    "ExecuteTime": {
     "end_time": "2018-12-14T00:32:26.497273Z",
     "start_time": "2018-12-14T00:32:25.784722Z"
    }
   },
   "outputs": [
    {
     "data": {
      "image/png": "[encoded data removed]",
      "text/plain": [
       "<Figure size 864x648 with 2 Axes>"
      ]
     },
     "metadata": {
      "needs_background": "light"
     },
     "output_type": "display_data"
    }
   ],
   "source": [
    "f, ax = plt.subplots(figsize=(12, 9))\n",
    "sns.heatmap(matrix.corr(), vmax=.8, square=True, annot=True);"
   ]
  },
  {
   "cell_type": "markdown",
   "metadata": {},
   "source": [
    "bathroomcnt and finishedsquarefeet12 are highly correlated; so are bedroomcnt and finishedsquarefeet12"
   ]
  },
  {
   "cell_type": "code",
   "execution_count": 24,
   "metadata": {
    "ExecuteTime": {
     "end_time": "2018-12-14T00:31:04.767339Z",
     "start_time": "2018-12-14T00:31:03.842914Z"
    }
   },
   "outputs": [
    {
     "data": {
      "text/html": [
       "<table class=\"simpletable\">\n",
       "<caption>OLS Regression Results</caption>\n",
       "<tr>\n",
       "  <th>Dep. Variable:</th>    <td>taxvaluedollarcnt</td> <th>  R-squared:         </th>  <td>   0.218</td>  \n",
       "</tr>\n",
       "<tr>\n",
       "  <th>Model:</th>                   <td>OLS</td>        <th>  Adj. R-squared:    </th>  <td>   0.218</td>  \n",
       "</tr>\n",
       "<tr>\n",
       "  <th>Method:</th>             <td>Least Squares</td>   <th>  F-statistic:       </th>  <td>7.975e+04</td> \n",
       "</tr>\n",
       "<tr>\n",
       "  <th>Date:</th>             <td>Thu, 13 Dec 2018</td>  <th>  Prob (F-statistic):</th>   <td>  0.00</td>   \n",
       "</tr>\n",
       "<tr>\n",
       "  <th>Time:</th>                 <td>16:31:04</td>      <th>  Log-Likelihood:    </th> <td>-2.3218e+07</td>\n",
       "</tr>\n",
       "<tr>\n",
       "  <th>No. Observations:</th>      <td>1716691</td>      <th>  AIC:               </th>  <td>4.644e+07</td> \n",
       "</tr>\n",
       "<tr>\n",
       "  <th>Df Residuals:</th>          <td>1716684</td>      <th>  BIC:               </th>  <td>4.644e+07</td> \n",
       "</tr>\n",
       "<tr>\n",
       "  <th>Df Model:</th>              <td>     6</td>       <th>                     </th>      <td> </td>     \n",
       "</tr>\n",
       "<tr>\n",
       "  <th>Covariance Type:</th>      <td>nonrobust</td>     <th>                     </th>      <td> </td>     \n",
       "</tr>\n",
       "</table>\n",
       "<table class=\"simpletable\">\n",
       "<tr>\n",
       "            <td></td>              <th>coef</th>     <th>std err</th>      <th>t</th>      <th>P>|t|</th>  <th>[0.025</th>    <th>0.975]</th>  \n",
       "</tr>\n",
       "<tr>\n",
       "  <th>bedroomcnt</th>           <td>-2.663e+04</td> <td>  212.568</td> <td> -125.287</td> <td> 0.000</td> <td> -2.7e+04</td> <td>-2.62e+04</td>\n",
       "</tr>\n",
       "<tr>\n",
       "  <th>bathroomcnt</th>          <td> 2.189e+04</td> <td>  303.033</td> <td>   72.237</td> <td> 0.000</td> <td> 2.13e+04</td> <td> 2.25e+04</td>\n",
       "</tr>\n",
       "<tr>\n",
       "  <th>roomcnt</th>              <td> 2271.0877</td> <td>   45.594</td> <td>   49.811</td> <td> 0.000</td> <td> 2181.725</td> <td> 2360.450</td>\n",
       "</tr>\n",
       "<tr>\n",
       "  <th>yearbuilt</th>            <td>  247.6561</td> <td>    7.680</td> <td>   32.245</td> <td> 0.000</td> <td>  232.603</td> <td>  262.709</td>\n",
       "</tr>\n",
       "<tr>\n",
       "  <th>finishedsquarefeet12</th> <td>  128.8805</td> <td>    0.336</td> <td>  383.445</td> <td> 0.000</td> <td>  128.222</td> <td>  129.539</td>\n",
       "</tr>\n",
       "<tr>\n",
       "  <th>lotsizesquarefeet</th>    <td>   -0.0326</td> <td>    0.002</td> <td>  -17.586</td> <td> 0.000</td> <td>   -0.036</td> <td>   -0.029</td>\n",
       "</tr>\n",
       "<tr>\n",
       "  <th>constant</th>             <td>-2.918e+05</td> <td> 1.48e+04</td> <td>  -19.694</td> <td> 0.000</td> <td>-3.21e+05</td> <td>-2.63e+05</td>\n",
       "</tr>\n",
       "</table>\n",
       "<table class=\"simpletable\">\n",
       "<tr>\n",
       "  <th>Omnibus:</th>       <td>144314.298</td> <th>  Durbin-Watson:     </th>  <td>   1.684</td> \n",
       "</tr>\n",
       "<tr>\n",
       "  <th>Prob(Omnibus):</th>   <td> 0.000</td>   <th>  Jarque-Bera (JB):  </th> <td>373041.595</td>\n",
       "</tr>\n",
       "<tr>\n",
       "  <th>Skew:</th>            <td> 0.493</td>   <th>  Prob(JB):          </th>  <td>    0.00</td> \n",
       "</tr>\n",
       "<tr>\n",
       "  <th>Kurtosis:</th>        <td> 5.060</td>   <th>  Cond. No.          </th>  <td>8.07e+06</td> \n",
       "</tr>\n",
       "</table><br/><br/>Warnings:<br/>[1] Standard Errors assume that the covariance matrix of the errors is correctly specified.<br/>[2] The condition number is large, 8.07e+06. This might indicate that there are<br/>strong multicollinearity or other numerical problems."
      ],
      "text/plain": [
       "<class 'statsmodels.iolib.summary.Summary'>\n",
       "\"\"\"\n",
       "                            OLS Regression Results                            \n",
       "==============================================================================\n",
       "Dep. Variable:      taxvaluedollarcnt   R-squared:                       0.218\n",
       "Model:                            OLS   Adj. R-squared:                  0.218\n",
       "Method:                 Least Squares   F-statistic:                 7.975e+04\n",
       "Date:                Thu, 13 Dec 2018   Prob (F-statistic):               0.00\n",
       "Time:                        16:31:04   Log-Likelihood:            -2.3218e+07\n",
       "No. Observations:             1716691   AIC:                         4.644e+07\n",
       "Df Residuals:                 1716684   BIC:                         4.644e+07\n",
       "Df Model:                           6                                         \n",
       "Covariance Type:            nonrobust                                         \n",
       "========================================================================================\n",
       "                           coef    std err          t      P>|t|      [0.025      0.975]\n",
       "----------------------------------------------------------------------------------------\n",
       "bedroomcnt           -2.663e+04    212.568   -125.287      0.000    -2.7e+04   -2.62e+04\n",
       "bathroomcnt           2.189e+04    303.033     72.237      0.000    2.13e+04    2.25e+04\n",
       "roomcnt               2271.0877     45.594     49.811      0.000    2181.725    2360.450\n",
       "yearbuilt              247.6561      7.680     32.245      0.000     232.603     262.709\n",
       "finishedsquarefeet12   128.8805      0.336    383.445      0.000     128.222     129.539\n",
       "lotsizesquarefeet       -0.0326      0.002    -17.586      0.000      -0.036      -0.029\n",
       "constant             -2.918e+05   1.48e+04    -19.694      0.000   -3.21e+05   -2.63e+05\n",
       "==============================================================================\n",
       "Omnibus:                   144314.298   Durbin-Watson:                   1.684\n",
       "Prob(Omnibus):                  0.000   Jarque-Bera (JB):           373041.595\n",
       "Skew:                           0.493   Prob(JB):                         0.00\n",
       "Kurtosis:                       5.060   Cond. No.                     8.07e+06\n",
       "==============================================================================\n",
       "\n",
       "Warnings:\n",
       "[1] Standard Errors assume that the covariance matrix of the errors is correctly specified.\n",
       "[2] The condition number is large, 8.07e+06. This might indicate that there are\n",
       "strong multicollinearity or other numerical problems.\n",
       "\"\"\""
      ]
     },
     "execution_count": 24,
     "metadata": {},
     "output_type": "execute_result"
    }
   ],
   "source": [
    "features = matrix[feature_col]\n",
    "features['constant'] = 1\n",
    "target = matrix[target_col]\n",
    "\n",
    "model = sm.OLS(target, features)\n",
    "model.fit().summary()"
   ]
  },
  {
   "cell_type": "code",
   "execution_count": 67,
   "metadata": {
    "ExecuteTime": {
     "end_time": "2018-12-14T01:22:45.314865Z",
     "start_time": "2018-12-14T01:22:44.792850Z"
    }
   },
   "outputs": [
    {
     "name": "stdout",
     "output_type": "stream",
     "text": [
      "OLS Training set r2: 0.217\n",
      "OLS Test set r2: 0.219\n"
     ]
    }
   ],
   "source": [
    "# Do train-test split, make predictions for test set, calculate RMSE\n",
    "from sklearn.metrics import r2_score, mean_squared_error\n",
    "X1, X2, y1, y2 = train_test_split(features, target, random_state=0, train_size=.7)\n",
    "\n",
    "model = LinearRegression().fit(X1, y1)\n",
    "print('OLS Training set r2: {:.3f}'.format(model.score(X1, y1)))\n",
    "\n",
    "y_score = model.predict(X2)\n",
    "print('OLS Test set r2: {:.3f}'.format(r2_score(y2, y_score)))"
   ]
  },
  {
   "cell_type": "code",
   "execution_count": 66,
   "metadata": {
    "ExecuteTime": {
     "end_time": "2018-12-14T01:22:13.125463Z",
     "start_time": "2018-12-14T01:20:35.284410Z"
    }
   },
   "outputs": [
    {
     "data": {
      "text/plain": [
       "RandomForestRegressor(bootstrap=True, criterion='mse', max_depth=10,\n",
       "           max_features='auto', max_leaf_nodes=None,\n",
       "           min_impurity_decrease=0.0, min_impurity_split=None,\n",
       "           min_samples_leaf=5, min_samples_split=2,\n",
       "           min_weight_fraction_leaf=0.0, n_estimators=50, n_jobs=None,\n",
       "           oob_score=False, random_state=0, verbose=0, warm_start=False)"
      ]
     },
     "execution_count": 66,
     "metadata": {},
     "output_type": "execute_result"
    }
   ],
   "source": [
    "from sklearn.ensemble import RandomForestRegressor\n",
    "from sklearn.model_selection import GridSearchCV\n",
    "\n",
    "rf_model = RandomForestRegressor(\n",
    "    random_state=0,\n",
    "    criterion=\"mse\",\n",
    "    min_samples_leaf=5,\n",
    "    n_estimators=50, \n",
    "    max_depth=10,\n",
    ")\n",
    "                           \n",
    "rf_model.fit(X1, y1)\n",
    "\n",
    "print('RF Training set r2: {:.3f}'.format(rf_model.score(X1, y1)))\n",
    "y_score = rf_model.predict(X2)\n",
    "print('RF Test set r2: {:.3f}'.format(r2_score(y2, y_score)))\n",
    "\n",
    "print(\"Root Mean Squared Error: {:,.0f}\".format(mean_squared_error(y2, y_score)**0.5))"
   ]
  }
 ],
 "metadata": {
  "kernelspec": {
   "display_name": "Python 3",
   "language": "python",
   "name": "python3"
  },
  "language_info": {
   "codemirror_mode": {
    "name": "ipython",
    "version": 3
   },
   "file_extension": ".py",
   "mimetype": "text/x-python",
   "name": "python",
   "nbconvert_exporter": "python",
   "pygments_lexer": "ipython3",
   "version": "3.7.1"
  }
 },
 "nbformat": 4,
 "nbformat_minor": 2
}

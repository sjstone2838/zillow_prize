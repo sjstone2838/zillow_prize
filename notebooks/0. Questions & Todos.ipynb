{
 "cells": [
  {
   "cell_type": "markdown",
   "metadata": {
    "ExecuteTime": {
     "end_time": "2018-12-12T21:20:44.972791Z",
     "start_time": "2018-12-12T21:20:44.967644Z"
    }
   },
   "source": [
    "## Questions\n",
    "- Why do ~1.2M of 2017 SFH have 0 rooms (`roomcnt`) but 1 or more for `bedroomcnt` and `bathroomcnt`?\n",
    "\n"
   ]
  }
 ],
 "metadata": {
  "kernelspec": {
   "display_name": "Python 3",
   "language": "python",
   "name": "python3"
  },
  "language_info": {
   "codemirror_mode": {
    "name": "ipython",
    "version": 3
   },
   "file_extension": ".py",
   "mimetype": "text/x-python",
   "name": "python",
   "nbconvert_exporter": "python",
   "pygments_lexer": "ipython3",
   "version": "3.7.1"
  }
 },
 "nbformat": 4,
 "nbformat_minor": 2
}
